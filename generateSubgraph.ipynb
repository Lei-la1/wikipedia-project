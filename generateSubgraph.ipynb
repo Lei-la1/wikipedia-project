{
 "cells": [
  {
   "cell_type": "code",
   "execution_count": 1,
   "id": "d130e280-5dbe-43fc-9109-6cdc25fab2e4",
   "metadata": {
    "tags": []
   },
   "outputs": [],
   "source": []
  },
  {
   "cell_type": "code",
   "execution_count": 3,
   "id": "cd14f91d-8bd6-4e35-a9b4-a5548d22c540",
   "metadata": {
    "tags": []
   },
   "outputs": [],
   "source": [
    "import networkx as nx\n",
    "from spikexplore import graph_explore\n",
    "from spikexplore.backends.wikipedia import WikipediaNetwork\n",
    "from spikexplore.config import SamplingConfig, GraphConfig, DataCollectionConfig, WikipediaConfig\n",
    "\n",
    "\n",
    "def main():\n",
    "    wiki_config = WikipediaConfig(user_agent=\"SpikexploreBot/1.0 (https://github.com/epfl-lts2/spikexplore; lts2@epfl.ch)\", lang=\"en\")\n",
    "    wiki_config.pages_ignored = [\n",
    "        \"BNF (identifier)\",\n",
    "        \"Bibcode (identifier)\",\n",
    "        \"CANTIC (identifier)\",\n",
    "        \"CiNii (identifier)\",\n",
    "        \"BNE (identifier)\",\n",
    "        \"BIBSYS (identifier)\",\n",
    "        \"ArXiv (identifier)\",\n",
    "        \"Doi (identifier)\",\n",
    "        \"ISBN (identifier)\",\n",
    "        \"PMC (identifier)\",\n",
    "        \"PMID (identifier)\",\n",
    "        \"NDL (identifier)\",\n",
    "        \"NKC (identifier)\",\n",
    "        \"NLA (identifier)\",\n",
    "        \"NLI (identifier)\",\n",
    "        \"NLK (identifier)\",\n",
    "        \"LCCN (identifier)\",\n",
    "        \"LNB (identifier)\",\n",
    "        \"MGP (identifier)\",\n",
    "        \"NLP (identifier)\",\n",
    "    ]\n",
    "    sampling_backend = WikipediaNetwork(wiki_config)\n",
    "    graph_config = GraphConfig(min_degree=1, min_weight=1, community_detection=False)\n",
    "    data_collection_config = DataCollectionConfig(\n",
    "        exploration_depth=2, random_subset_mode=\"percent\", random_subset_size=15, expansion_type=\"coreball\", degree=2, max_nodes_per_hop=100\n",
    "    )\n",
    "    sampling_config = SamplingConfig(graph_config, data_collection_config)\n",
    "    initial_nodes = [\"Jazz\", \"Ukraine\", \"Lausanne\"]\n",
    "    g_sub, _ = graph_explore.explore(sampling_backend, initial_nodes, sampling_config)\n",
    "    print(\n",
    "        f\"Sampled graph with {g_sub.number_of_nodes()} nodes, {g_sub.number_of_edges()} edges and {nx.number_connected_components(g_sub)} connected components\"\n",
    "    )\n",
    "    nx.write_gexf(g_sub, \"out1.gexf\")\n"
   ]
  },
  {
   "cell_type": "code",
   "execution_count": 4,
   "id": "036ee097-c7e2-4174-a562-1f850a591982",
   "metadata": {
    "tags": []
   },
   "outputs": [
    {
     "name": "stdout",
     "output_type": "stream",
     "text": [
      "Sampled graph with 449 nodes, 5218 edges and 1 connected components\n"
     ]
    }
   ],
   "source": [
    "main()"
   ]
  }
 ],
 "metadata": {
  "kernelspec": {
   "display_name": "Python 3 (ipykernel)",
   "language": "python",
   "name": "python3"
  },
  "language_info": {
   "codemirror_mode": {
    "name": "ipython",
    "version": 3
   },
   "file_extension": ".py",
   "mimetype": "text/x-python",
   "name": "python",
   "nbconvert_exporter": "python",
   "pygments_lexer": "ipython3",
   "version": "3.10.12"
  }
 },
 "nbformat": 4,
 "nbformat_minor": 5
}
